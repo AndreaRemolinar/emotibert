{
 "cells": [
  {
   "attachments": {},
   "cell_type": "markdown",
   "metadata": {},
   "source": [
    "La tercera etapa en un proyecto típico de NLP sería evaluar el modelo. Ya hemos discutido la evaluación en la etapa de pruebas, donde aplicamos el modelo a un conjunto de datos de prueba independiente y medimos su rendimiento.\n",
    "\n",
    "En esta etapa, querríamos recoger métricas que nos ayuden a entender cuán bien está funcionando nuestro modelo. Estas métricas varían dependiendo de la tarea, pero en un problema de clasificación de texto como este, podríamos considerar lo siguiente:\n",
    "\n",
    "Precisión: Esta es la proporción de predicciones correctas entre todas las predicciones hechas. Esto nos da una idea general de cómo está funcionando el modelo.\n",
    "\n",
    "Recall: Esta es la proporción de verdaderos positivos que se identificaron correctamente. Es especialmente importante en situaciones donde los falsos negativos son problemáticos.\n",
    "\n",
    "F1 Score: Este es un promedio ponderado de la precisión y la recall. Es útil si necesitas un equilibrio entre precisión y recall y hay una distribución desigual de las clases.\n",
    "\n",
    "Confusion Matrix: Esta es una tabla que te permite visualizar el rendimiento de tu algoritmo. Muestra los verdaderos positivos, los verdaderos negativos, los falsos positivos y los falsos negativos.\n",
    "\n",
    "Podemos utilizar la biblioteca sklearn para obtener estas métricas. Aquí te muestro un ejemplo de cómo podrías hacerlo:"
   ]
  },
  {
   "cell_type": "code",
   "execution_count": 15,
   "metadata": {},
   "outputs": [
    {
     "name": "stderr",
     "output_type": "stream",
     "text": [
      "All model checkpoint layers were used when initializing TFCamembertForSequenceClassification.\n",
      "\n",
      "All the layers of TFCamembertForSequenceClassification were initialized from the model checkpoint at path_to_save_model.\n",
      "If your task is similar to the task the model of the checkpoint was trained on, you can already use TFCamembertForSequenceClassification for predictions without further training.\n"
     ]
    },
    {
     "name": "stdout",
     "output_type": "stream",
     "text": [
      "259/259 [==============================] - 235s 901ms/step\n",
      "[[664  46  25   3  64]\n",
      " [ 37 420   3   7 295]\n",
      " [ 68   8 749   1  19]\n",
      " [  3   5   3 781  13]\n",
      " [ 17  51   7  10 840]]\n",
      "              precision    recall  f1-score   support\n",
      "\n",
      "           0       0.84      0.83      0.83       802\n",
      "           1       0.79      0.55      0.65       762\n",
      "           2       0.95      0.89      0.92       845\n",
      "           3       0.97      0.97      0.97       805\n",
      "           4       0.68      0.91      0.78       925\n",
      "\n",
      "    accuracy                           0.83      4139\n",
      "   macro avg       0.85      0.83      0.83      4139\n",
      "weighted avg       0.85      0.83      0.83      4139\n",
      "\n"
     ]
    }
   ],
   "source": [
    "from sklearn.metrics import classification_report, confusion_matrix\n",
    "from transformers import TFCamembertForSequenceClassification, CamembertTokenizer\n",
    "import numpy as np\n",
    "import tensorflow as tf\n",
    "import pandas as pd\n",
    "\n",
    "# Asegúrate de tener la siguiente línea si no has definido el tokenizer anteriormente en tu script\n",
    "tokenizer = CamembertTokenizer.from_pretrained(\"camembert-base\")\n",
    "\n",
    "# Carga los datos de validación\n",
    "val_df = pd.read_csv('../../dataset/processed_data.csv')\n",
    "\n",
    "# Convierte 'label' a int y reemplaza los valores NaN en 'phrase' con un string vacío\n",
    "val_df['label'] = val_df['label'].astype(int)\n",
    "val_df['phrase'] = val_df['phrase'].fillna('')\n",
    "\n",
    "# Cargar el modelo guardado\n",
    "model = TFCamembertForSequenceClassification.from_pretrained('path_to_save_model', num_labels=5)\n",
    "\n",
    "# Crear un TF Dataset para la validación\n",
    "val_dataset = tf.data.Dataset.from_tensor_slices((val_df['phrase'].values, val_df['label'].values))\n",
    "\n",
    "def map_example_to_dict(input_ids, attention_masks, label):\n",
    "    return {\"input_ids\": input_ids, \"attention_mask\": attention_masks}, label\n",
    "\n",
    "def encode_examples(s, l):\n",
    "    input_ids_list = []\n",
    "    attention_mask_list = []\n",
    "    label_list = []\n",
    "\n",
    "    for phrase, label in zip(s, l):\n",
    "        bert_input = tokenizer(phrase, truncation=True, padding='max_length', max_length=64)\n",
    "\n",
    "        input_ids_list.append(bert_input['input_ids'])\n",
    "        attention_mask_list.append(bert_input['attention_mask'])\n",
    "        label_list.append([label])\n",
    "\n",
    "    return tf.data.Dataset.from_tensor_slices((input_ids_list, attention_mask_list, label_list)).map(map_example_to_dict)\n",
    "\n",
    "# Convertir el DataFrame de validación en un TF Dataset\n",
    "val_dataset_encoded = encode_examples(val_df['phrase'].values, val_df['label'].values)\n",
    "\n",
    "# Preparar el dataset para la evaluación\n",
    "val_dataset_encoded = val_dataset_encoded.batch(16).prefetch(tf.data.experimental.AUTOTUNE)\n",
    "\n",
    "# Evaluar el modelo en el conjunto de validación\n",
    "val_preds = model.predict(val_dataset_encoded)\n",
    "\n",
    "# Obtener las etiquetas predichas\n",
    "val_preds_labels = np.argmax(val_preds[0], axis=1)\n",
    "\n",
    "# Calcular la matriz de confusión\n",
    "cm = confusion_matrix(val_df['label'].values, val_preds_labels)\n",
    "print(cm)\n",
    "\n",
    "# Calcular las métricas de clasificación\n",
    "report = classification_report(val_df['label'].values, val_preds_labels)\n",
    "print(report)\n"
   ]
  },
  {
   "cell_type": "code",
   "execution_count": null,
   "metadata": {},
   "outputs": [],
   "source": [
    "print(val_df.head())\n"
   ]
  },
  {
   "cell_type": "code",
   "execution_count": null,
   "metadata": {},
   "outputs": [],
   "source": [
    "for i in val_dataset.take(5):\n",
    "    print(i)\n"
   ]
  },
  {
   "cell_type": "markdown",
   "metadata": {},
   "source": [
    "Verificar el balance de las clases"
   ]
  },
  {
   "cell_type": "code",
   "execution_count": null,
   "metadata": {},
   "outputs": [],
   "source": [
    "print(val_df['sentiment'].value_counts())\n"
   ]
  },
  {
   "cell_type": "markdown",
   "metadata": {},
   "source": [
    "Comprueba la distribución de las clases en el conjunto de validación"
   ]
  },
  {
   "cell_type": "code",
   "execution_count": null,
   "metadata": {},
   "outputs": [],
   "source": [
    "from sklearn.model_selection import train_test_split\n",
    "\n",
    "train_df, val_df = train_test_split(val_df, test_size=0.2, stratify=val_df['label'], random_state=42)\n"
   ]
  },
  {
   "cell_type": "code",
   "execution_count": null,
   "metadata": {},
   "outputs": [],
   "source": [
    "print(val_df['sentiment'].value_counts())\n"
   ]
  },
  {
   "cell_type": "code",
   "execution_count": 1,
   "metadata": {},
   "outputs": [
    {
     "name": "stderr",
     "output_type": "stream",
     "text": [
      "C:\\Users\\kn-dr\\AppData\\Local\\Packages\\PythonSoftwareFoundation.Python.3.11_qbz5n2kfra8p0\\LocalCache\\local-packages\\Python311\\site-packages\\tqdm\\auto.py:21: TqdmWarning: IProgress not found. Please update jupyter and ipywidgets. See https://ipywidgets.readthedocs.io/en/stable/user_install.html\n",
      "  from .autonotebook import tqdm as notebook_tqdm\n"
     ]
    },
    {
     "ename": "NameError",
     "evalue": "name 'model_dir' is not defined",
     "output_type": "error",
     "traceback": [
      "\u001b[1;31m---------------------------------------------------------------------------\u001b[0m",
      "\u001b[1;31mNameError\u001b[0m                                 Traceback (most recent call last)",
      "Cell \u001b[1;32mIn[1], line 4\u001b[0m\n\u001b[0;32m      1\u001b[0m \u001b[38;5;28;01mfrom\u001b[39;00m \u001b[38;5;21;01mtransformers\u001b[39;00m \u001b[38;5;28;01mimport\u001b[39;00m TFCamembertForSequenceClassification, CamembertTokenizer\n\u001b[0;32m      3\u001b[0m \u001b[38;5;66;03m# Cargar el modelo y el tokenizador\u001b[39;00m\n\u001b[1;32m----> 4\u001b[0m model \u001b[38;5;241m=\u001b[39m TFCamembertForSequenceClassification\u001b[38;5;241m.\u001b[39mfrom_pretrained(\u001b[43mmodel_dir\u001b[49m)\n\u001b[0;32m      5\u001b[0m tokenizer \u001b[38;5;241m=\u001b[39m CamembertTokenizer\u001b[38;5;241m.\u001b[39mfrom_pretrained(model_dir)\n",
      "\u001b[1;31mNameError\u001b[0m: name 'model_dir' is not defined"
     ]
    }
   ],
   "source": [
    "from transformers import TFCamembertForSequenceClassification, CamembertTokenizer\n",
    "\n",
    "# Cargar el modelo y el tokenizador\n",
    "model = TFCamembertForSequenceClassification.from_pretrained(model_dir)\n",
    "tokenizer = CamembertTokenizer.from_pretrained(model_dir)\n"
   ]
  },
  {
   "cell_type": "code",
   "execution_count": 5,
   "metadata": {},
   "outputs": [
    {
     "name": "stderr",
     "output_type": "stream",
     "text": [
      "Special tokens have been added in the vocabulary, make sure the associated word embeddings are fine-tuned or trained.\n",
      "All model checkpoint layers were used when initializing TFCamembertForSequenceClassification.\n",
      "\n",
      "All the layers of TFCamembertForSequenceClassification were initialized from the model checkpoint at d:\\Python Code\\Project\\analyzer\\models\\path_to_save_model.\n",
      "If your task is similar to the task the model of the checkpoint was trained on, you can already use TFCamembertForSequenceClassification for predictions without further training.\n"
     ]
    },
    {
     "name": "stdout",
     "output_type": "stream",
     "text": [
      "52/52 [==============================] - 49s 890ms/step - loss: 0.5008 - accuracy: 0.8502\n",
      "Test Loss: 0.5008377432823181\n",
      "Test Accuracy: 0.8502415418624878\n",
      "52/52 [==============================] - 54s 956ms/step\n",
      "              precision    recall  f1-score   support\n",
      "\n",
      " frustration       0.89      0.73      0.80       177\n",
      "   tristesse       0.77      0.84      0.80       158\n",
      "      colere       0.85      0.99      0.91       168\n",
      "        joie       0.95      0.94      0.95       140\n",
      "      neutre       0.82      0.77      0.80       185\n",
      "\n",
      "    accuracy                           0.85       828\n",
      "   macro avg       0.86      0.86      0.85       828\n",
      "weighted avg       0.85      0.85      0.85       828\n",
      "\n"
     ]
    },
    {
     "data": {
      "image/png": "[encoded data removed]",
      "text/plain": [
       "<Figure size 640x480 with 2 Axes>"
      ]
     },
     "metadata": {},
     "output_type": "display_data"
    }
   ],
   "source": [
    "import os\n",
    "import matplotlib.pyplot as plt\n",
    "import pandas as pd\n",
    "import tensorflow as tf\n",
    "from transformers import CamembertTokenizer, TFCamembertForSequenceClassification\n",
    "from sklearn.model_selection import train_test_split\n",
    "from sklearn.metrics import classification_report, confusion_matrix, ConfusionMatrixDisplay\n",
    "\n",
    "# Cargar los datos procesados\n",
    "df = pd.read_csv('../../dataset/processed_data.csv')\n",
    "\n",
    "# Dividir los datos en conjuntos de entrenamiento y prueba\n",
    "_, X_test, _, y_test = train_test_split(df['phrase'].fillna(''), df['label'], test_size=0.2, random_state=42)\n",
    "\n",
    "# Preparar los datos para el modelo CamemBERT\n",
    "tokenizer = CamembertTokenizer.from_pretrained(\"camembert-base\")\n",
    "\n",
    "def encode_reviews(text, label):\n",
    "    encoded_dict = tokenizer.encode_plus(\n",
    "        text.numpy().decode('utf-8'),\n",
    "        add_special_tokens=True,\n",
    "        max_length=64,\n",
    "        padding='max_length',\n",
    "        truncation=True,\n",
    "        return_attention_mask=True,\n",
    "        return_tensors='tf',\n",
    "    )\n",
    "\n",
    "    input_id = encoded_dict['input_ids'][0]\n",
    "    attention_mask = encoded_dict['attention_mask'][0]\n",
    "\n",
    "    return input_id, attention_mask, label\n",
    "\n",
    "def tf_encode(text_tensor, label_tensor):\n",
    "    input_id, attention_mask, label = tf.py_function(encode_reviews, [text_tensor, label_tensor], [tf.int32, tf.int32, tf.int64])\n",
    "    input_id.set_shape([64])\n",
    "    attention_mask.set_shape([64])\n",
    "    label.set_shape([])\n",
    "    return {'input_ids': input_id, 'attention_mask': attention_mask}, label\n",
    "\n",
    "text_test_tensor = tf.convert_to_tensor(X_test.values, dtype=tf.string)\n",
    "label_test_tensor = tf.convert_to_tensor(y_test.values, dtype=tf.int64)\n",
    "\n",
    "test_dataset = tf.data.Dataset.from_tensor_slices((text_test_tensor, label_test_tensor)).map(tf_encode).batch(16)\n",
    "\n",
    "# Cargar el modelo entrenado\n",
    "model_base_dir = os.path.abspath(os.path.join(os.getcwd(), '..', 'models'))\n",
    "model_dir = os.path.join(model_base_dir, 'path_to_save_model')\n",
    "model = TFCamembertForSequenceClassification.from_pretrained(model_dir)\n",
    "\n",
    "# Compilar el modelo antes de evaluar\n",
    "optimizer = tf.keras.optimizers.Adam(learning_rate=1e-5)\n",
    "loss = tf.keras.losses.SparseCategoricalCrossentropy(from_logits=True)\n",
    "metrics = [tf.keras.metrics.SparseCategoricalAccuracy(name='accuracy')]\n",
    "\n",
    "model.compile(optimizer=optimizer, loss=loss, metrics=metrics)\n",
    "\n",
    "# Evaluar el modelo\n",
    "results = model.evaluate(test_dataset)\n",
    "print(f\"Test Loss: {results[0]}\")\n",
    "print(f\"Test Accuracy: {results[1]}\")\n",
    "\n",
    "# Obtener las predicciones\n",
    "y_pred = model.predict(test_dataset)\n",
    "y_pred_labels = tf.argmax(y_pred.logits, axis=1).numpy()\n",
    "\n",
    "# Imprimir el informe de clasificación\n",
    "print(classification_report(y_test, y_pred_labels, target_names=['frustration', 'tristesse', 'colere', 'joie', 'neutre']))\n",
    "\n",
    "# Matriz de confusión\n",
    "cm = confusion_matrix(y_test, y_pred_labels)\n",
    "disp = ConfusionMatrixDisplay(confusion_matrix=cm, display_labels=['frustration', 'tristesse', 'colere', 'joie', 'neutre'])\n",
    "disp.plot(cmap=plt.cm.Blues)\n",
    "plt.show()\n"
   ]
  }
 ],
 "metadata": {
  "kernelspec": {
   "display_name": "project",
   "language": "python",
   "name": "python3"
  },
  "language_info": {
   "codemirror_mode": {
    "name": "ipython",
    "version": 3
   },
   "file_extension": ".py",
   "mimetype": "text/x-python",
   "name": "python",
   "nbconvert_exporter": "python",
   "pygments_lexer": "ipython3",
   "version": "3.11.9"
  },
  "orig_nbformat": 4
 },
 "nbformat": 4,
 "nbformat_minor": 2
}
